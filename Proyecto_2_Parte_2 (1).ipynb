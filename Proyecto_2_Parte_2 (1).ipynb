{
  "nbformat": 4,
  "nbformat_minor": 0,
  "metadata": {
    "colab": {
      "provenance": []
    },
    "kernelspec": {
      "name": "python3",
      "display_name": "Python 3"
    },
    "language_info": {
      "name": "python"
    }
  },
  "cells": [
    {
      "cell_type": "markdown",
      "source": [
        "#LIBRERIAS"
      ],
      "metadata": {
        "id": "GhvU5ofvMgtf"
      }
    },
    {
      "cell_type": "code",
      "execution_count": 99,
      "metadata": {
        "id": "dRbWMwAAKqkI"
      },
      "outputs": [],
      "source": [
        "import pandas as pd\n",
        "import numpy as np\n",
        "import matplotlib.pyplot as plt\n",
        "from matplotlib.colors import ListedColormap\n",
        "import matplotlib.patches as mpatches\n",
        "import seaborn as sns\n",
        "\n",
        "%matplotlib inline\n",
        "plt.rcParams['figure.figsize'] = (16, 9)\n",
        "plt.style.use('ggplot')\n",
        "\n",
        "from sklearn.preprocessing import StandardScaler #Escalamiento para todos\n",
        "\n",
        "#Regresion\n",
        "\n",
        "from sklearn.metrics import r2_score\n",
        "from sklearn.metrics import precision_recall_fscore_support\n",
        "from sklearn.metrics import mean_absolute_error\n",
        "from sklearn.metrics import mean_squared_error\n",
        "\n",
        "#Regresion lineal\n",
        "from sklearn.linear_model import LinearRegression \n",
        "\n",
        "#KNN Vecinos\n",
        "from sklearn.model_selection import train_test_split\n",
        "from sklearn.preprocessing import MinMaxScaler\n",
        "from sklearn.neighbors import KNeighborsClassifier\n",
        "from sklearn.metrics import classification_report\n",
        "from sklearn.metrics import confusion_matrix\n",
        "from sklearn import metrics\n",
        "from sklearn.neighbors import KNeighborsRegressor #para regresion\n",
        "\n",
        "#Arboles\n",
        "from sklearn.tree import DecisionTreeClassifier\n",
        "import pandas as pd\n",
        "from sklearn import tree\n",
        "\n",
        "#Forest\n",
        "from sklearn.ensemble import RandomForestClassifier\n",
        "from sklearn.metrics import accuracy_score\n",
        "\n",
        "#Regresion Logistica\n",
        "from sklearn.linear_model import LogisticRegression\n",
        "from sklearn.model_selection import GridSearchCV\n",
        "from sklearn.metrics import roc_auc_score, plot_roc_curve\n",
        "\n",
        "#K-Means\n",
        "from sklearn.cluster import KMeans\n",
        "\n",
        "#Agrupamiento Jerarquico\n",
        "from sklearn.cluster import AgglomerativeClustering"
      ]
    },
    {
      "cell_type": "markdown",
      "source": [
        "#CONEXION DATA"
      ],
      "metadata": {
        "id": "oR-WkuzSMjjf"
      }
    },
    {
      "cell_type": "markdown",
      "source": [
        "1. gender: \"Male\", \"Female\" or \"Other\"\n",
        "2. age: age of the patient\n",
        "3. hypertension: 0 if the patient doesn't have hypertension, 1 if the patient has hypertension\n",
        "4. heart disease: 0 if the patient doesn't have any heart diseases, 1 if the patient has a heart disease \n",
        "5. ever-married: \"No\" or \"Yes\"\n",
        "6. worktype: \"children\", \"Govtjov\", \"Neverworked\", \"Private\" or \"Self-employed\" \n",
        "7. Residencetype: \"Rural\" or \"Urban\"\n",
        "8. avgglucoselevel: average glucose level in blood\n",
        "9. bmi: body mass index\n",
        "10. smoking_status: \"formerly smoked\", \"never smoked\", \"smokes\" or \"Unknown\"*\n",
        "11. stroke: 1 if the patient had a stroke or 0 if not"
      ],
      "metadata": {
        "id": "dN8H_EqJOpZX"
      }
    },
    {
      "cell_type": "code",
      "source": [
        "from google.colab import drive\n",
        "drive.mount('/content/drive')"
      ],
      "metadata": {
        "colab": {
          "base_uri": "https://localhost:8080/"
        },
        "id": "qecs_t82Mm3Q",
        "outputId": "4579edbe-982a-4542-ef49-6235c4c48766"
      },
      "execution_count": 100,
      "outputs": [
        {
          "output_type": "stream",
          "name": "stdout",
          "text": [
            "Drive already mounted at /content/drive; to attempt to forcibly remount, call drive.mount(\"/content/drive\", force_remount=True).\n"
          ]
        }
      ]
    },
    {
      "cell_type": "code",
      "source": [
        "df=pd.read_csv(\"/content/drive/MyDrive/Colab Notebooks/Proyecto 2/brain_stroke.csv\")\n",
        "df.head()"
      ],
      "metadata": {
        "colab": {
          "base_uri": "https://localhost:8080/",
          "height": 206
        },
        "id": "IACkOdRkNYEA",
        "outputId": "a052e022-3bd9-47cc-bd7f-be43a3489eee"
      },
      "execution_count": 101,
      "outputs": [
        {
          "output_type": "execute_result",
          "data": {
            "text/plain": [
              "   gender   age  hypertension  heart_disease ever_married      work_type  \\\n",
              "0    Male  67.0             0              1          Yes        Private   \n",
              "1    Male  80.0             0              1          Yes        Private   \n",
              "2  Female  49.0             0              0          Yes        Private   \n",
              "3  Female  79.0             1              0          Yes  Self-employed   \n",
              "4    Male  81.0             0              0          Yes        Private   \n",
              "\n",
              "  Residence_type  avg_glucose_level   bmi   smoking_status  stroke  \n",
              "0          Urban             228.69  36.6  formerly smoked       1  \n",
              "1          Rural             105.92  32.5     never smoked       1  \n",
              "2          Urban             171.23  34.4           smokes       1  \n",
              "3          Rural             174.12  24.0     never smoked       1  \n",
              "4          Urban             186.21  29.0  formerly smoked       1  "
            ],
            "text/html": [
              "\n",
              "  <div id=\"df-044ff889-7558-4a25-af9f-b991595ec8fb\">\n",
              "    <div class=\"colab-df-container\">\n",
              "      <div>\n",
              "<style scoped>\n",
              "    .dataframe tbody tr th:only-of-type {\n",
              "        vertical-align: middle;\n",
              "    }\n",
              "\n",
              "    .dataframe tbody tr th {\n",
              "        vertical-align: top;\n",
              "    }\n",
              "\n",
              "    .dataframe thead th {\n",
              "        text-align: right;\n",
              "    }\n",
              "</style>\n",
              "<table border=\"1\" class=\"dataframe\">\n",
              "  <thead>\n",
              "    <tr style=\"text-align: right;\">\n",
              "      <th></th>\n",
              "      <th>gender</th>\n",
              "      <th>age</th>\n",
              "      <th>hypertension</th>\n",
              "      <th>heart_disease</th>\n",
              "      <th>ever_married</th>\n",
              "      <th>work_type</th>\n",
              "      <th>Residence_type</th>\n",
              "      <th>avg_glucose_level</th>\n",
              "      <th>bmi</th>\n",
              "      <th>smoking_status</th>\n",
              "      <th>stroke</th>\n",
              "    </tr>\n",
              "  </thead>\n",
              "  <tbody>\n",
              "    <tr>\n",
              "      <th>0</th>\n",
              "      <td>Male</td>\n",
              "      <td>67.0</td>\n",
              "      <td>0</td>\n",
              "      <td>1</td>\n",
              "      <td>Yes</td>\n",
              "      <td>Private</td>\n",
              "      <td>Urban</td>\n",
              "      <td>228.69</td>\n",
              "      <td>36.6</td>\n",
              "      <td>formerly smoked</td>\n",
              "      <td>1</td>\n",
              "    </tr>\n",
              "    <tr>\n",
              "      <th>1</th>\n",
              "      <td>Male</td>\n",
              "      <td>80.0</td>\n",
              "      <td>0</td>\n",
              "      <td>1</td>\n",
              "      <td>Yes</td>\n",
              "      <td>Private</td>\n",
              "      <td>Rural</td>\n",
              "      <td>105.92</td>\n",
              "      <td>32.5</td>\n",
              "      <td>never smoked</td>\n",
              "      <td>1</td>\n",
              "    </tr>\n",
              "    <tr>\n",
              "      <th>2</th>\n",
              "      <td>Female</td>\n",
              "      <td>49.0</td>\n",
              "      <td>0</td>\n",
              "      <td>0</td>\n",
              "      <td>Yes</td>\n",
              "      <td>Private</td>\n",
              "      <td>Urban</td>\n",
              "      <td>171.23</td>\n",
              "      <td>34.4</td>\n",
              "      <td>smokes</td>\n",
              "      <td>1</td>\n",
              "    </tr>\n",
              "    <tr>\n",
              "      <th>3</th>\n",
              "      <td>Female</td>\n",
              "      <td>79.0</td>\n",
              "      <td>1</td>\n",
              "      <td>0</td>\n",
              "      <td>Yes</td>\n",
              "      <td>Self-employed</td>\n",
              "      <td>Rural</td>\n",
              "      <td>174.12</td>\n",
              "      <td>24.0</td>\n",
              "      <td>never smoked</td>\n",
              "      <td>1</td>\n",
              "    </tr>\n",
              "    <tr>\n",
              "      <th>4</th>\n",
              "      <td>Male</td>\n",
              "      <td>81.0</td>\n",
              "      <td>0</td>\n",
              "      <td>0</td>\n",
              "      <td>Yes</td>\n",
              "      <td>Private</td>\n",
              "      <td>Urban</td>\n",
              "      <td>186.21</td>\n",
              "      <td>29.0</td>\n",
              "      <td>formerly smoked</td>\n",
              "      <td>1</td>\n",
              "    </tr>\n",
              "  </tbody>\n",
              "</table>\n",
              "</div>\n",
              "      <button class=\"colab-df-convert\" onclick=\"convertToInteractive('df-044ff889-7558-4a25-af9f-b991595ec8fb')\"\n",
              "              title=\"Convert this dataframe to an interactive table.\"\n",
              "              style=\"display:none;\">\n",
              "        \n",
              "  <svg xmlns=\"http://www.w3.org/2000/svg\" height=\"24px\"viewBox=\"0 0 24 24\"\n",
              "       width=\"24px\">\n",
              "    <path d=\"M0 0h24v24H0V0z\" fill=\"none\"/>\n",
              "    <path d=\"M18.56 5.44l.94 2.06.94-2.06 2.06-.94-2.06-.94-.94-2.06-.94 2.06-2.06.94zm-11 1L8.5 8.5l.94-2.06 2.06-.94-2.06-.94L8.5 2.5l-.94 2.06-2.06.94zm10 10l.94 2.06.94-2.06 2.06-.94-2.06-.94-.94-2.06-.94 2.06-2.06.94z\"/><path d=\"M17.41 7.96l-1.37-1.37c-.4-.4-.92-.59-1.43-.59-.52 0-1.04.2-1.43.59L10.3 9.45l-7.72 7.72c-.78.78-.78 2.05 0 2.83L4 21.41c.39.39.9.59 1.41.59.51 0 1.02-.2 1.41-.59l7.78-7.78 2.81-2.81c.8-.78.8-2.07 0-2.86zM5.41 20L4 18.59l7.72-7.72 1.47 1.35L5.41 20z\"/>\n",
              "  </svg>\n",
              "      </button>\n",
              "      \n",
              "  <style>\n",
              "    .colab-df-container {\n",
              "      display:flex;\n",
              "      flex-wrap:wrap;\n",
              "      gap: 12px;\n",
              "    }\n",
              "\n",
              "    .colab-df-convert {\n",
              "      background-color: #E8F0FE;\n",
              "      border: none;\n",
              "      border-radius: 50%;\n",
              "      cursor: pointer;\n",
              "      display: none;\n",
              "      fill: #1967D2;\n",
              "      height: 32px;\n",
              "      padding: 0 0 0 0;\n",
              "      width: 32px;\n",
              "    }\n",
              "\n",
              "    .colab-df-convert:hover {\n",
              "      background-color: #E2EBFA;\n",
              "      box-shadow: 0px 1px 2px rgba(60, 64, 67, 0.3), 0px 1px 3px 1px rgba(60, 64, 67, 0.15);\n",
              "      fill: #174EA6;\n",
              "    }\n",
              "\n",
              "    [theme=dark] .colab-df-convert {\n",
              "      background-color: #3B4455;\n",
              "      fill: #D2E3FC;\n",
              "    }\n",
              "\n",
              "    [theme=dark] .colab-df-convert:hover {\n",
              "      background-color: #434B5C;\n",
              "      box-shadow: 0px 1px 3px 1px rgba(0, 0, 0, 0.15);\n",
              "      filter: drop-shadow(0px 1px 2px rgba(0, 0, 0, 0.3));\n",
              "      fill: #FFFFFF;\n",
              "    }\n",
              "  </style>\n",
              "\n",
              "      <script>\n",
              "        const buttonEl =\n",
              "          document.querySelector('#df-044ff889-7558-4a25-af9f-b991595ec8fb button.colab-df-convert');\n",
              "        buttonEl.style.display =\n",
              "          google.colab.kernel.accessAllowed ? 'block' : 'none';\n",
              "\n",
              "        async function convertToInteractive(key) {\n",
              "          const element = document.querySelector('#df-044ff889-7558-4a25-af9f-b991595ec8fb');\n",
              "          const dataTable =\n",
              "            await google.colab.kernel.invokeFunction('convertToInteractive',\n",
              "                                                     [key], {});\n",
              "          if (!dataTable) return;\n",
              "\n",
              "          const docLinkHtml = 'Like what you see? Visit the ' +\n",
              "            '<a target=\"_blank\" href=https://colab.research.google.com/notebooks/data_table.ipynb>data table notebook</a>'\n",
              "            + ' to learn more about interactive tables.';\n",
              "          element.innerHTML = '';\n",
              "          dataTable['output_type'] = 'display_data';\n",
              "          await google.colab.output.renderOutput(dataTable, element);\n",
              "          const docLink = document.createElement('div');\n",
              "          docLink.innerHTML = docLinkHtml;\n",
              "          element.appendChild(docLink);\n",
              "        }\n",
              "      </script>\n",
              "    </div>\n",
              "  </div>\n",
              "  "
            ]
          },
          "metadata": {},
          "execution_count": 101
        }
      ]
    },
    {
      "cell_type": "markdown",
      "source": [
        "#a) Analisis exploratorio de la data"
      ],
      "metadata": {
        "id": "eZ7bOW82SoXG"
      }
    },
    {
      "cell_type": "markdown",
      "source": [
        "#a.1) Revision de datos nulos"
      ],
      "metadata": {
        "id": "VQOOJNidS-dg"
      }
    },
    {
      "cell_type": "code",
      "source": [
        "df.info() #no tenemos datos nulos"
      ],
      "metadata": {
        "colab": {
          "base_uri": "https://localhost:8080/"
        },
        "id": "iqMMSleOTCV7",
        "outputId": "a61bc17d-cbb6-4f0e-d253-bd6d0fb40286"
      },
      "execution_count": 102,
      "outputs": [
        {
          "output_type": "stream",
          "name": "stdout",
          "text": [
            "<class 'pandas.core.frame.DataFrame'>\n",
            "RangeIndex: 4981 entries, 0 to 4980\n",
            "Data columns (total 11 columns):\n",
            " #   Column             Non-Null Count  Dtype  \n",
            "---  ------             --------------  -----  \n",
            " 0   gender             4981 non-null   object \n",
            " 1   age                4981 non-null   float64\n",
            " 2   hypertension       4981 non-null   int64  \n",
            " 3   heart_disease      4981 non-null   int64  \n",
            " 4   ever_married       4981 non-null   object \n",
            " 5   work_type          4981 non-null   object \n",
            " 6   Residence_type     4981 non-null   object \n",
            " 7   avg_glucose_level  4981 non-null   float64\n",
            " 8   bmi                4981 non-null   float64\n",
            " 9   smoking_status     4981 non-null   object \n",
            " 10  stroke             4981 non-null   int64  \n",
            "dtypes: float64(3), int64(3), object(5)\n",
            "memory usage: 428.2+ KB\n"
          ]
        }
      ]
    },
    {
      "cell_type": "markdown",
      "source": [
        "#a.2) Revision de duplicados"
      ],
      "metadata": {
        "id": "UBCntyiyTKYn"
      }
    },
    {
      "cell_type": "code",
      "source": [
        "df.duplicated().sum() #No hay duplicados."
      ],
      "metadata": {
        "colab": {
          "base_uri": "https://localhost:8080/"
        },
        "id": "hcUK8lBmTKDh",
        "outputId": "7a0fd3d0-b130-41c7-a6fc-8725fb19149b"
      },
      "execution_count": 103,
      "outputs": [
        {
          "output_type": "execute_result",
          "data": {
            "text/plain": [
              "0"
            ]
          },
          "metadata": {},
          "execution_count": 103
        }
      ]
    },
    {
      "cell_type": "markdown",
      "source": [
        "#a.3) Explorar el racional de los datos"
      ],
      "metadata": {
        "id": "qfH3DbyTc31S"
      }
    },
    {
      "cell_type": "code",
      "source": [
        "df.describe()"
      ],
      "metadata": {
        "colab": {
          "base_uri": "https://localhost:8080/",
          "height": 300
        },
        "id": "wMrO7BDtc8Vj",
        "outputId": "895d765e-2363-4e88-d071-a032322d128a"
      },
      "execution_count": 104,
      "outputs": [
        {
          "output_type": "execute_result",
          "data": {
            "text/plain": [
              "               age  hypertension  heart_disease  avg_glucose_level  \\\n",
              "count  4981.000000   4981.000000    4981.000000        4981.000000   \n",
              "mean     43.419859      0.096165       0.055210         105.943562   \n",
              "std      22.662755      0.294848       0.228412          45.075373   \n",
              "min       0.080000      0.000000       0.000000          55.120000   \n",
              "25%      25.000000      0.000000       0.000000          77.230000   \n",
              "50%      45.000000      0.000000       0.000000          91.850000   \n",
              "75%      61.000000      0.000000       0.000000         113.860000   \n",
              "max      82.000000      1.000000       1.000000         271.740000   \n",
              "\n",
              "               bmi       stroke  \n",
              "count  4981.000000  4981.000000  \n",
              "mean     28.498173     0.049789  \n",
              "std       6.790464     0.217531  \n",
              "min      14.000000     0.000000  \n",
              "25%      23.700000     0.000000  \n",
              "50%      28.100000     0.000000  \n",
              "75%      32.600000     0.000000  \n",
              "max      48.900000     1.000000  "
            ],
            "text/html": [
              "\n",
              "  <div id=\"df-2afd03e4-8c1e-4654-9772-b624012026f9\">\n",
              "    <div class=\"colab-df-container\">\n",
              "      <div>\n",
              "<style scoped>\n",
              "    .dataframe tbody tr th:only-of-type {\n",
              "        vertical-align: middle;\n",
              "    }\n",
              "\n",
              "    .dataframe tbody tr th {\n",
              "        vertical-align: top;\n",
              "    }\n",
              "\n",
              "    .dataframe thead th {\n",
              "        text-align: right;\n",
              "    }\n",
              "</style>\n",
              "<table border=\"1\" class=\"dataframe\">\n",
              "  <thead>\n",
              "    <tr style=\"text-align: right;\">\n",
              "      <th></th>\n",
              "      <th>age</th>\n",
              "      <th>hypertension</th>\n",
              "      <th>heart_disease</th>\n",
              "      <th>avg_glucose_level</th>\n",
              "      <th>bmi</th>\n",
              "      <th>stroke</th>\n",
              "    </tr>\n",
              "  </thead>\n",
              "  <tbody>\n",
              "    <tr>\n",
              "      <th>count</th>\n",
              "      <td>4981.000000</td>\n",
              "      <td>4981.000000</td>\n",
              "      <td>4981.000000</td>\n",
              "      <td>4981.000000</td>\n",
              "      <td>4981.000000</td>\n",
              "      <td>4981.000000</td>\n",
              "    </tr>\n",
              "    <tr>\n",
              "      <th>mean</th>\n",
              "      <td>43.419859</td>\n",
              "      <td>0.096165</td>\n",
              "      <td>0.055210</td>\n",
              "      <td>105.943562</td>\n",
              "      <td>28.498173</td>\n",
              "      <td>0.049789</td>\n",
              "    </tr>\n",
              "    <tr>\n",
              "      <th>std</th>\n",
              "      <td>22.662755</td>\n",
              "      <td>0.294848</td>\n",
              "      <td>0.228412</td>\n",
              "      <td>45.075373</td>\n",
              "      <td>6.790464</td>\n",
              "      <td>0.217531</td>\n",
              "    </tr>\n",
              "    <tr>\n",
              "      <th>min</th>\n",
              "      <td>0.080000</td>\n",
              "      <td>0.000000</td>\n",
              "      <td>0.000000</td>\n",
              "      <td>55.120000</td>\n",
              "      <td>14.000000</td>\n",
              "      <td>0.000000</td>\n",
              "    </tr>\n",
              "    <tr>\n",
              "      <th>25%</th>\n",
              "      <td>25.000000</td>\n",
              "      <td>0.000000</td>\n",
              "      <td>0.000000</td>\n",
              "      <td>77.230000</td>\n",
              "      <td>23.700000</td>\n",
              "      <td>0.000000</td>\n",
              "    </tr>\n",
              "    <tr>\n",
              "      <th>50%</th>\n",
              "      <td>45.000000</td>\n",
              "      <td>0.000000</td>\n",
              "      <td>0.000000</td>\n",
              "      <td>91.850000</td>\n",
              "      <td>28.100000</td>\n",
              "      <td>0.000000</td>\n",
              "    </tr>\n",
              "    <tr>\n",
              "      <th>75%</th>\n",
              "      <td>61.000000</td>\n",
              "      <td>0.000000</td>\n",
              "      <td>0.000000</td>\n",
              "      <td>113.860000</td>\n",
              "      <td>32.600000</td>\n",
              "      <td>0.000000</td>\n",
              "    </tr>\n",
              "    <tr>\n",
              "      <th>max</th>\n",
              "      <td>82.000000</td>\n",
              "      <td>1.000000</td>\n",
              "      <td>1.000000</td>\n",
              "      <td>271.740000</td>\n",
              "      <td>48.900000</td>\n",
              "      <td>1.000000</td>\n",
              "    </tr>\n",
              "  </tbody>\n",
              "</table>\n",
              "</div>\n",
              "      <button class=\"colab-df-convert\" onclick=\"convertToInteractive('df-2afd03e4-8c1e-4654-9772-b624012026f9')\"\n",
              "              title=\"Convert this dataframe to an interactive table.\"\n",
              "              style=\"display:none;\">\n",
              "        \n",
              "  <svg xmlns=\"http://www.w3.org/2000/svg\" height=\"24px\"viewBox=\"0 0 24 24\"\n",
              "       width=\"24px\">\n",
              "    <path d=\"M0 0h24v24H0V0z\" fill=\"none\"/>\n",
              "    <path d=\"M18.56 5.44l.94 2.06.94-2.06 2.06-.94-2.06-.94-.94-2.06-.94 2.06-2.06.94zm-11 1L8.5 8.5l.94-2.06 2.06-.94-2.06-.94L8.5 2.5l-.94 2.06-2.06.94zm10 10l.94 2.06.94-2.06 2.06-.94-2.06-.94-.94-2.06-.94 2.06-2.06.94z\"/><path d=\"M17.41 7.96l-1.37-1.37c-.4-.4-.92-.59-1.43-.59-.52 0-1.04.2-1.43.59L10.3 9.45l-7.72 7.72c-.78.78-.78 2.05 0 2.83L4 21.41c.39.39.9.59 1.41.59.51 0 1.02-.2 1.41-.59l7.78-7.78 2.81-2.81c.8-.78.8-2.07 0-2.86zM5.41 20L4 18.59l7.72-7.72 1.47 1.35L5.41 20z\"/>\n",
              "  </svg>\n",
              "      </button>\n",
              "      \n",
              "  <style>\n",
              "    .colab-df-container {\n",
              "      display:flex;\n",
              "      flex-wrap:wrap;\n",
              "      gap: 12px;\n",
              "    }\n",
              "\n",
              "    .colab-df-convert {\n",
              "      background-color: #E8F0FE;\n",
              "      border: none;\n",
              "      border-radius: 50%;\n",
              "      cursor: pointer;\n",
              "      display: none;\n",
              "      fill: #1967D2;\n",
              "      height: 32px;\n",
              "      padding: 0 0 0 0;\n",
              "      width: 32px;\n",
              "    }\n",
              "\n",
              "    .colab-df-convert:hover {\n",
              "      background-color: #E2EBFA;\n",
              "      box-shadow: 0px 1px 2px rgba(60, 64, 67, 0.3), 0px 1px 3px 1px rgba(60, 64, 67, 0.15);\n",
              "      fill: #174EA6;\n",
              "    }\n",
              "\n",
              "    [theme=dark] .colab-df-convert {\n",
              "      background-color: #3B4455;\n",
              "      fill: #D2E3FC;\n",
              "    }\n",
              "\n",
              "    [theme=dark] .colab-df-convert:hover {\n",
              "      background-color: #434B5C;\n",
              "      box-shadow: 0px 1px 3px 1px rgba(0, 0, 0, 0.15);\n",
              "      filter: drop-shadow(0px 1px 2px rgba(0, 0, 0, 0.3));\n",
              "      fill: #FFFFFF;\n",
              "    }\n",
              "  </style>\n",
              "\n",
              "      <script>\n",
              "        const buttonEl =\n",
              "          document.querySelector('#df-2afd03e4-8c1e-4654-9772-b624012026f9 button.colab-df-convert');\n",
              "        buttonEl.style.display =\n",
              "          google.colab.kernel.accessAllowed ? 'block' : 'none';\n",
              "\n",
              "        async function convertToInteractive(key) {\n",
              "          const element = document.querySelector('#df-2afd03e4-8c1e-4654-9772-b624012026f9');\n",
              "          const dataTable =\n",
              "            await google.colab.kernel.invokeFunction('convertToInteractive',\n",
              "                                                     [key], {});\n",
              "          if (!dataTable) return;\n",
              "\n",
              "          const docLinkHtml = 'Like what you see? Visit the ' +\n",
              "            '<a target=\"_blank\" href=https://colab.research.google.com/notebooks/data_table.ipynb>data table notebook</a>'\n",
              "            + ' to learn more about interactive tables.';\n",
              "          element.innerHTML = '';\n",
              "          dataTable['output_type'] = 'display_data';\n",
              "          await google.colab.output.renderOutput(dataTable, element);\n",
              "          const docLink = document.createElement('div');\n",
              "          docLink.innerHTML = docLinkHtml;\n",
              "          element.appendChild(docLink);\n",
              "        }\n",
              "      </script>\n",
              "    </div>\n",
              "  </div>\n",
              "  "
            ]
          },
          "metadata": {},
          "execution_count": 104
        }
      ]
    },
    {
      "cell_type": "markdown",
      "source": [
        "**De las variables numericas que son medida de algun indice, parece ser que todos los rangos son razonables y posibles: la edad es entre 0,08 (menor de un año) y 82**\n",
        "\n",
        "*   La edad es entre 0,08 (menor de un año) y 82\n",
        "*   El nivel de glucosa está entre 55 y 271, que es un rango que existe\n",
        "*   El BMI es desde 14 hasta 49 que es un rango que existe\n",
        "\n",
        "Fuentes: https://medlineplus.gov/spanish/ency/article/007196.htm / https://www.mayoclinic.org/es-es/diseases-conditions/prediabetes/diagnosis-treatment/drc-20355284#:~:text=pr%C3%B3ximas%20dos%20horas.-,En%20general%3A,de%20dos%20horas%20indica%20diabetes."
      ],
      "metadata": {
        "id": "UiegDmayeBTP"
      }
    },
    {
      "cell_type": "code",
      "source": [
        "infarto=df['stroke']==1\n",
        "df_infarto=df.loc[infarto,:]\n",
        "df_infarto.head()"
      ],
      "metadata": {
        "colab": {
          "base_uri": "https://localhost:8080/",
          "height": 206
        },
        "id": "vf3zbrZW4T-s",
        "outputId": "cc2db29d-9743-4ce9-9240-323d214f4da0"
      },
      "execution_count": 105,
      "outputs": [
        {
          "output_type": "execute_result",
          "data": {
            "text/plain": [
              "   gender   age  hypertension  heart_disease ever_married      work_type  \\\n",
              "0    Male  67.0             0              1          Yes        Private   \n",
              "1    Male  80.0             0              1          Yes        Private   \n",
              "2  Female  49.0             0              0          Yes        Private   \n",
              "3  Female  79.0             1              0          Yes  Self-employed   \n",
              "4    Male  81.0             0              0          Yes        Private   \n",
              "\n",
              "  Residence_type  avg_glucose_level   bmi   smoking_status  stroke  \n",
              "0          Urban             228.69  36.6  formerly smoked       1  \n",
              "1          Rural             105.92  32.5     never smoked       1  \n",
              "2          Urban             171.23  34.4           smokes       1  \n",
              "3          Rural             174.12  24.0     never smoked       1  \n",
              "4          Urban             186.21  29.0  formerly smoked       1  "
            ],
            "text/html": [
              "\n",
              "  <div id=\"df-eea30c0a-d725-43fa-a390-9024d752a8f3\">\n",
              "    <div class=\"colab-df-container\">\n",
              "      <div>\n",
              "<style scoped>\n",
              "    .dataframe tbody tr th:only-of-type {\n",
              "        vertical-align: middle;\n",
              "    }\n",
              "\n",
              "    .dataframe tbody tr th {\n",
              "        vertical-align: top;\n",
              "    }\n",
              "\n",
              "    .dataframe thead th {\n",
              "        text-align: right;\n",
              "    }\n",
              "</style>\n",
              "<table border=\"1\" class=\"dataframe\">\n",
              "  <thead>\n",
              "    <tr style=\"text-align: right;\">\n",
              "      <th></th>\n",
              "      <th>gender</th>\n",
              "      <th>age</th>\n",
              "      <th>hypertension</th>\n",
              "      <th>heart_disease</th>\n",
              "      <th>ever_married</th>\n",
              "      <th>work_type</th>\n",
              "      <th>Residence_type</th>\n",
              "      <th>avg_glucose_level</th>\n",
              "      <th>bmi</th>\n",
              "      <th>smoking_status</th>\n",
              "      <th>stroke</th>\n",
              "    </tr>\n",
              "  </thead>\n",
              "  <tbody>\n",
              "    <tr>\n",
              "      <th>0</th>\n",
              "      <td>Male</td>\n",
              "      <td>67.0</td>\n",
              "      <td>0</td>\n",
              "      <td>1</td>\n",
              "      <td>Yes</td>\n",
              "      <td>Private</td>\n",
              "      <td>Urban</td>\n",
              "      <td>228.69</td>\n",
              "      <td>36.6</td>\n",
              "      <td>formerly smoked</td>\n",
              "      <td>1</td>\n",
              "    </tr>\n",
              "    <tr>\n",
              "      <th>1</th>\n",
              "      <td>Male</td>\n",
              "      <td>80.0</td>\n",
              "      <td>0</td>\n",
              "      <td>1</td>\n",
              "      <td>Yes</td>\n",
              "      <td>Private</td>\n",
              "      <td>Rural</td>\n",
              "      <td>105.92</td>\n",
              "      <td>32.5</td>\n",
              "      <td>never smoked</td>\n",
              "      <td>1</td>\n",
              "    </tr>\n",
              "    <tr>\n",
              "      <th>2</th>\n",
              "      <td>Female</td>\n",
              "      <td>49.0</td>\n",
              "      <td>0</td>\n",
              "      <td>0</td>\n",
              "      <td>Yes</td>\n",
              "      <td>Private</td>\n",
              "      <td>Urban</td>\n",
              "      <td>171.23</td>\n",
              "      <td>34.4</td>\n",
              "      <td>smokes</td>\n",
              "      <td>1</td>\n",
              "    </tr>\n",
              "    <tr>\n",
              "      <th>3</th>\n",
              "      <td>Female</td>\n",
              "      <td>79.0</td>\n",
              "      <td>1</td>\n",
              "      <td>0</td>\n",
              "      <td>Yes</td>\n",
              "      <td>Self-employed</td>\n",
              "      <td>Rural</td>\n",
              "      <td>174.12</td>\n",
              "      <td>24.0</td>\n",
              "      <td>never smoked</td>\n",
              "      <td>1</td>\n",
              "    </tr>\n",
              "    <tr>\n",
              "      <th>4</th>\n",
              "      <td>Male</td>\n",
              "      <td>81.0</td>\n",
              "      <td>0</td>\n",
              "      <td>0</td>\n",
              "      <td>Yes</td>\n",
              "      <td>Private</td>\n",
              "      <td>Urban</td>\n",
              "      <td>186.21</td>\n",
              "      <td>29.0</td>\n",
              "      <td>formerly smoked</td>\n",
              "      <td>1</td>\n",
              "    </tr>\n",
              "  </tbody>\n",
              "</table>\n",
              "</div>\n",
              "      <button class=\"colab-df-convert\" onclick=\"convertToInteractive('df-eea30c0a-d725-43fa-a390-9024d752a8f3')\"\n",
              "              title=\"Convert this dataframe to an interactive table.\"\n",
              "              style=\"display:none;\">\n",
              "        \n",
              "  <svg xmlns=\"http://www.w3.org/2000/svg\" height=\"24px\"viewBox=\"0 0 24 24\"\n",
              "       width=\"24px\">\n",
              "    <path d=\"M0 0h24v24H0V0z\" fill=\"none\"/>\n",
              "    <path d=\"M18.56 5.44l.94 2.06.94-2.06 2.06-.94-2.06-.94-.94-2.06-.94 2.06-2.06.94zm-11 1L8.5 8.5l.94-2.06 2.06-.94-2.06-.94L8.5 2.5l-.94 2.06-2.06.94zm10 10l.94 2.06.94-2.06 2.06-.94-2.06-.94-.94-2.06-.94 2.06-2.06.94z\"/><path d=\"M17.41 7.96l-1.37-1.37c-.4-.4-.92-.59-1.43-.59-.52 0-1.04.2-1.43.59L10.3 9.45l-7.72 7.72c-.78.78-.78 2.05 0 2.83L4 21.41c.39.39.9.59 1.41.59.51 0 1.02-.2 1.41-.59l7.78-7.78 2.81-2.81c.8-.78.8-2.07 0-2.86zM5.41 20L4 18.59l7.72-7.72 1.47 1.35L5.41 20z\"/>\n",
              "  </svg>\n",
              "      </button>\n",
              "      \n",
              "  <style>\n",
              "    .colab-df-container {\n",
              "      display:flex;\n",
              "      flex-wrap:wrap;\n",
              "      gap: 12px;\n",
              "    }\n",
              "\n",
              "    .colab-df-convert {\n",
              "      background-color: #E8F0FE;\n",
              "      border: none;\n",
              "      border-radius: 50%;\n",
              "      cursor: pointer;\n",
              "      display: none;\n",
              "      fill: #1967D2;\n",
              "      height: 32px;\n",
              "      padding: 0 0 0 0;\n",
              "      width: 32px;\n",
              "    }\n",
              "\n",
              "    .colab-df-convert:hover {\n",
              "      background-color: #E2EBFA;\n",
              "      box-shadow: 0px 1px 2px rgba(60, 64, 67, 0.3), 0px 1px 3px 1px rgba(60, 64, 67, 0.15);\n",
              "      fill: #174EA6;\n",
              "    }\n",
              "\n",
              "    [theme=dark] .colab-df-convert {\n",
              "      background-color: #3B4455;\n",
              "      fill: #D2E3FC;\n",
              "    }\n",
              "\n",
              "    [theme=dark] .colab-df-convert:hover {\n",
              "      background-color: #434B5C;\n",
              "      box-shadow: 0px 1px 3px 1px rgba(0, 0, 0, 0.15);\n",
              "      filter: drop-shadow(0px 1px 2px rgba(0, 0, 0, 0.3));\n",
              "      fill: #FFFFFF;\n",
              "    }\n",
              "  </style>\n",
              "\n",
              "      <script>\n",
              "        const buttonEl =\n",
              "          document.querySelector('#df-eea30c0a-d725-43fa-a390-9024d752a8f3 button.colab-df-convert');\n",
              "        buttonEl.style.display =\n",
              "          google.colab.kernel.accessAllowed ? 'block' : 'none';\n",
              "\n",
              "        async function convertToInteractive(key) {\n",
              "          const element = document.querySelector('#df-eea30c0a-d725-43fa-a390-9024d752a8f3');\n",
              "          const dataTable =\n",
              "            await google.colab.kernel.invokeFunction('convertToInteractive',\n",
              "                                                     [key], {});\n",
              "          if (!dataTable) return;\n",
              "\n",
              "          const docLinkHtml = 'Like what you see? Visit the ' +\n",
              "            '<a target=\"_blank\" href=https://colab.research.google.com/notebooks/data_table.ipynb>data table notebook</a>'\n",
              "            + ' to learn more about interactive tables.';\n",
              "          element.innerHTML = '';\n",
              "          dataTable['output_type'] = 'display_data';\n",
              "          await google.colab.output.renderOutput(dataTable, element);\n",
              "          const docLink = document.createElement('div');\n",
              "          docLink.innerHTML = docLinkHtml;\n",
              "          element.appendChild(docLink);\n",
              "        }\n",
              "      </script>\n",
              "    </div>\n",
              "  </div>\n",
              "  "
            ]
          },
          "metadata": {},
          "execution_count": 105
        }
      ]
    },
    {
      "cell_type": "code",
      "source": [
        "sns.boxplot(x='stroke',y='age',data=df,hue='stroke' , palette=[\"m\", \"g\"],)\n",
        "plt.title('Relacion Edad con o sin infarto')\n",
        "plt.xlabel('Infarto o no')\n",
        "plt.ylabel('Edad') \n",
        "plt.show()"
      ],
      "metadata": {
        "id": "CQNfZnJGqhCS",
        "colab": {
          "base_uri": "https://localhost:8080/",
          "height": 574
        },
        "outputId": "56ec6c48-b90e-4728-bd23-b8fde9b8ac65"
      },
      "execution_count": 106,
      "outputs": [
        {
          "output_type": "display_data",
          "data": {
            "text/plain": [
              "<Figure size 1152x648 with 1 Axes>"
            ],
            "image/png": "[encoded data removed]"
          },
          "metadata": {}
        }
      ]
    },
    {
      "cell_type": "code",
      "source": [
        "sns.boxplot(x='stroke',y='avg_glucose_level',data=df,hue='stroke' , palette=[\"m\", \"g\"],)\n",
        "plt.title('Relacion Glucosa con infartos/no Infartos')\n",
        "plt.xlabel('Infarto o no')\n",
        "plt.ylabel('Glucosa') \n",
        "plt.show()"
      ],
      "metadata": {
        "colab": {
          "base_uri": "https://localhost:8080/",
          "height": 574
        },
        "id": "8xrd4nEd7WXx",
        "outputId": "fbf147d7-a733-45a8-e9ca-f9f2e6fea19a"
      },
      "execution_count": 107,
      "outputs": [
        {
          "output_type": "display_data",
          "data": {
            "text/plain": [
              "<Figure size 1152x648 with 1 Axes>"
            ],
            "image/png": "[encoded data removed]"
          },
          "metadata": {}
        }
      ]
    },
    {
      "cell_type": "code",
      "source": [
        "sns.boxplot(x='stroke',y='bmi',data=df,hue='stroke' , palette=[\"m\", \"g\"],)\n",
        "plt.title('Relacion BMI con infartos/no Infartos')\n",
        "plt.xlabel('Infarto o no')\n",
        "plt.ylabel('BMI') \n",
        "plt.show()"
      ],
      "metadata": {
        "colab": {
          "base_uri": "https://localhost:8080/",
          "height": 574
        },
        "id": "xQbNl5X29f0i",
        "outputId": "db61a06f-8f58-455e-c39f-9f23ab723fc1"
      },
      "execution_count": 108,
      "outputs": [
        {
          "output_type": "display_data",
          "data": {
            "text/plain": [
              "<Figure size 1152x648 with 1 Axes>"
            ],
            "image/png": "[encoded data removed]"
          },
          "metadata": {}
        }
      ]
    },
    {
      "cell_type": "code",
      "source": [
        "g = sns.catplot(\n",
        "    data=df_infarto, kind=\"bar\",\n",
        "    x=\"smoking_status\", y=\"bmi\", hue=\"gender\",\n",
        "    palette=\"dark\", alpha=.6, height=6\n",
        ")\n",
        "g.despine(left=True)\n",
        "g.set_axis_labels(\"Smoking Status\", \"BMI\")\n",
        "g.legend.set_title(\"Relacion Fumadores/BMI por sexo\")"
      ],
      "metadata": {
        "colab": {
          "base_uri": "https://localhost:8080/",
          "height": 441
        },
        "id": "-So5mKpT47xZ",
        "outputId": "97ce8ffb-66f5-4da2-e988-a05bbf915d83"
      },
      "execution_count": 109,
      "outputs": [
        {
          "output_type": "display_data",
          "data": {
            "text/plain": [
              "<Figure size 511.725x432 with 1 Axes>"
            ],
            "image/png": "[encoded data removed]"
          },
          "metadata": {}
        }
      ]
    },
    {
      "cell_type": "code",
      "source": [
        "g = sns.catplot(\n",
        "    data=df, kind=\"bar\",\n",
        "    x=\"smoking_status\", y=\"bmi\", hue=\"stroke\",\n",
        "    palette=\"dark\", alpha=.6, height=10\n",
        ")\n",
        "g.despine(left=True)\n",
        "g.set_axis_labels(\"Smoking Status\", \"BMI\")\n",
        "g.legend.set_title(\"Infarto\")"
      ],
      "metadata": {
        "colab": {
          "base_uri": "https://localhost:8080/",
          "height": 729
        },
        "id": "BlejksYg6wUZ",
        "outputId": "67e22ec3-a99c-4a89-c43a-7a2fccd0d6c6"
      },
      "execution_count": 110,
      "outputs": [
        {
          "output_type": "display_data",
          "data": {
            "text/plain": [
              "<Figure size 766.6x720 with 1 Axes>"
            ],
            "image/png": "[encoded data removed]"
          },
          "metadata": {}
        }
      ]
    },
    {
      "cell_type": "code",
      "source": [
        "g = sns.catplot(\n",
        "    data=df, kind=\"bar\",\n",
        "    x=\"work_type\", y=\"bmi\", hue=\"stroke\",\n",
        "    palette=\"dark\", alpha=.6, height=10\n",
        ")\n",
        "g.despine(left=True)\n",
        "g.set_axis_labels(\"Tipo Trabajo\", \"BMI\")\n",
        "g.legend.set_title(\"Infarto\")"
      ],
      "metadata": {
        "colab": {
          "base_uri": "https://localhost:8080/",
          "height": 729
        },
        "id": "Fg082CQ2BOdt",
        "outputId": "b5c73102-c110-45b3-b70c-be4ba8f403bb"
      },
      "execution_count": 111,
      "outputs": [
        {
          "output_type": "display_data",
          "data": {
            "text/plain": [
              "<Figure size 766.6x720 with 1 Axes>"
            ],
            "image/png": "[encoded data removed]"
          },
          "metadata": {}
        }
      ]
    },
    {
      "cell_type": "code",
      "source": [
        "g = sns.catplot(\n",
        "    data=df, kind=\"bar\",\n",
        "    x=\"Residence_type\", y=\"avg_glucose_level\", hue=\"stroke\",\n",
        "    palette=\"dark\", alpha=.6, height=10\n",
        ")\n",
        "g.despine(left=True)\n",
        "g.set_axis_labels(\"Tipo de Residencia\", \"BMI\")\n",
        "g.legend.set_title(\"Infarto\")"
      ],
      "metadata": {
        "colab": {
          "base_uri": "https://localhost:8080/",
          "height": 729
        },
        "id": "pyLVpt1NBmH4",
        "outputId": "c3d402c1-a4db-4b74-cd11-230752b030ae"
      },
      "execution_count": 112,
      "outputs": [
        {
          "output_type": "display_data",
          "data": {
            "text/plain": [
              "<Figure size 766.6x720 with 1 Axes>"
            ],
            "image/png": "[encoded data removed]"
          },
          "metadata": {}
        }
      ]
    },
    {
      "cell_type": "code",
      "source": [
        "fig = plt.figure(dpi=70)\n",
        "ax = fig.add_subplot(1,1,1) \n",
        "explotar = [0.1, 0]\n",
        "\n",
        "ax.pie(df_infarto.groupby(['ever_married'])['stroke'].count().values, labels=df_infarto.groupby(['ever_married'])['stroke'].count().index, explode=explotar,autopct=\"%.2f%%\", shadow = False, startangle=-90)\n",
        "ax.axis(\"equal\")\n",
        "\n",
        "fig.suptitle(\"Relacion Estado Civil con Infartos\", fontsize=12, fontweight=\"bold\", y=1.05)\n",
        "plt.show()"
      ],
      "metadata": {
        "colab": {
          "base_uri": "https://localhost:8080/",
          "height": 613
        },
        "id": "udbwLUxw-Vmj",
        "outputId": "6718570b-5426-455a-f091-aecf937ed7fa"
      },
      "execution_count": 113,
      "outputs": [
        {
          "output_type": "display_data",
          "data": {
            "text/plain": [
              "<Figure size 1120x630 with 1 Axes>"
            ],
            "image/png": "[encoded data removed]"
          },
          "metadata": {}
        }
      ]
    },
    {
      "cell_type": "code",
      "source": [
        "fig = plt.figure(dpi=70)\n",
        "ax = fig.add_subplot(1,1,1) \n",
        "explotar = [0.1, 0]\n",
        "\n",
        "ax.pie(df_infarto.groupby(['hypertension'])['stroke'].count().values, labels=df_infarto.groupby(['hypertension'])['stroke'].count().index, explode=explotar,autopct=\"%.2f%%\", shadow = False, startangle=-90)\n",
        "ax.axis(\"equal\")\n",
        "\n",
        "fig.suptitle(\"% de Hipertensos con los infartos\", fontsize=12, fontweight=\"bold\", y=1.05)\n",
        "plt.show()"
      ],
      "metadata": {
        "colab": {
          "base_uri": "https://localhost:8080/",
          "height": 613
        },
        "id": "QLsAgLvTA0Sk",
        "outputId": "5816896e-fab5-4d54-d3f7-8f6130bea2a8"
      },
      "execution_count": 114,
      "outputs": [
        {
          "output_type": "display_data",
          "data": {
            "text/plain": [
              "<Figure size 1120x630 with 1 Axes>"
            ],
            "image/png": "[encoded data removed]"
          },
          "metadata": {}
        }
      ]
    },
    {
      "cell_type": "code",
      "source": [
        "df.groupby(['gender'])['gender'].count()"
      ],
      "metadata": {
        "colab": {
          "base_uri": "https://localhost:8080/"
        },
        "id": "eoIqhDNenJ__",
        "outputId": "36b5ab6c-c8ea-43da-abd2-60384ec52218"
      },
      "execution_count": 115,
      "outputs": [
        {
          "output_type": "execute_result",
          "data": {
            "text/plain": [
              "gender\n",
              "Female    2907\n",
              "Male      2074\n",
              "Name: gender, dtype: int64"
            ]
          },
          "metadata": {},
          "execution_count": 115
        }
      ]
    },
    {
      "cell_type": "code",
      "source": [
        "df.groupby(['ever_married'])['ever_married'].count()"
      ],
      "metadata": {
        "colab": {
          "base_uri": "https://localhost:8080/"
        },
        "id": "9jwp3Mlir-eV",
        "outputId": "a788cb02-c6fd-4ec8-a5c7-033148535b38"
      },
      "execution_count": 116,
      "outputs": [
        {
          "output_type": "execute_result",
          "data": {
            "text/plain": [
              "ever_married\n",
              "No     1701\n",
              "Yes    3280\n",
              "Name: ever_married, dtype: int64"
            ]
          },
          "metadata": {},
          "execution_count": 116
        }
      ]
    },
    {
      "cell_type": "code",
      "source": [
        "df.groupby(['work_type'])['work_type'].count()"
      ],
      "metadata": {
        "colab": {
          "base_uri": "https://localhost:8080/"
        },
        "outputId": "ee740670-c233-411e-8c8e-c8a5488fdbeb",
        "id": "qreXuRnNsG5O"
      },
      "execution_count": 117,
      "outputs": [
        {
          "output_type": "execute_result",
          "data": {
            "text/plain": [
              "work_type\n",
              "Govt_job          644\n",
              "Private          2860\n",
              "Self-employed     804\n",
              "children          673\n",
              "Name: work_type, dtype: int64"
            ]
          },
          "metadata": {},
          "execution_count": 117
        }
      ]
    },
    {
      "cell_type": "code",
      "source": [
        "df.groupby(['Residence_type'])['Residence_type'].count()"
      ],
      "metadata": {
        "colab": {
          "base_uri": "https://localhost:8080/"
        },
        "outputId": "4ce13009-0be7-4c31-de6b-ce4f6da5206a",
        "id": "_OYqlsCYsSOd"
      },
      "execution_count": 118,
      "outputs": [
        {
          "output_type": "execute_result",
          "data": {
            "text/plain": [
              "Residence_type\n",
              "Rural    2449\n",
              "Urban    2532\n",
              "Name: Residence_type, dtype: int64"
            ]
          },
          "metadata": {},
          "execution_count": 118
        }
      ]
    },
    {
      "cell_type": "code",
      "source": [
        "df.groupby(['smoking_status'])['smoking_status'].count()"
      ],
      "metadata": {
        "colab": {
          "base_uri": "https://localhost:8080/"
        },
        "outputId": "104e7c63-1ba4-445b-85cd-d243024f1baf",
        "id": "9gkV_YXusYaR"
      },
      "execution_count": 119,
      "outputs": [
        {
          "output_type": "execute_result",
          "data": {
            "text/plain": [
              "smoking_status\n",
              "Unknown            1500\n",
              "formerly smoked     867\n",
              "never smoked       1838\n",
              "smokes              776\n",
              "Name: smoking_status, dtype: int64"
            ]
          },
          "metadata": {},
          "execution_count": 119
        }
      ]
    },
    {
      "cell_type": "code",
      "source": [
        "df['gender'] = pd.factorize(df['gender'])[0]\n",
        "df['ever_married'] = pd.factorize(df['ever_married'])[0]\n",
        "df['work_type'] = pd.factorize(df['work_type'])[0]\n",
        "df['Residence_type'] = pd.factorize(df['Residence_type'])[0]\n",
        "df['smoking_status'] = pd.factorize(df['smoking_status'])[0]"
      ],
      "metadata": {
        "id": "OnBfD1VKswx2"
      },
      "execution_count": 120,
      "outputs": []
    },
    {
      "cell_type": "code",
      "source": [
        "df.groupby(['gender'])['gender'].count() #0:Male 1:Female"
      ],
      "metadata": {
        "colab": {
          "base_uri": "https://localhost:8080/"
        },
        "id": "5KjjTu84tHpx",
        "outputId": "ef7bcb9b-c04c-4db3-b18e-255a249328a4"
      },
      "execution_count": 121,
      "outputs": [
        {
          "output_type": "execute_result",
          "data": {
            "text/plain": [
              "gender\n",
              "0    2074\n",
              "1    2907\n",
              "Name: gender, dtype: int64"
            ]
          },
          "metadata": {},
          "execution_count": 121
        }
      ]
    },
    {
      "cell_type": "code",
      "source": [
        "df.groupby(['ever_married'])['ever_married'].count() #0:yes 1:No"
      ],
      "metadata": {
        "colab": {
          "base_uri": "https://localhost:8080/"
        },
        "id": "FszX4V2_tUAV",
        "outputId": "e4363fe9-1791-4014-9260-9881cb4e5191"
      },
      "execution_count": 122,
      "outputs": [
        {
          "output_type": "execute_result",
          "data": {
            "text/plain": [
              "ever_married\n",
              "0    3280\n",
              "1    1701\n",
              "Name: ever_married, dtype: int64"
            ]
          },
          "metadata": {},
          "execution_count": 122
        }
      ]
    },
    {
      "cell_type": "code",
      "source": [
        "df.groupby(['work_type'])['work_type'].count() #0:Private, 1:self.employed, 2:Govt_job, 3:Children"
      ],
      "metadata": {
        "colab": {
          "base_uri": "https://localhost:8080/"
        },
        "id": "RONw06bYteBR",
        "outputId": "c8bad1c4-ba67-4c50-ea75-8be23f8b65f8"
      },
      "execution_count": 123,
      "outputs": [
        {
          "output_type": "execute_result",
          "data": {
            "text/plain": [
              "work_type\n",
              "0    2860\n",
              "1     804\n",
              "2     644\n",
              "3     673\n",
              "Name: work_type, dtype: int64"
            ]
          },
          "metadata": {},
          "execution_count": 123
        }
      ]
    },
    {
      "cell_type": "code",
      "source": [
        "df.groupby(['Residence_type'])['Residence_type'].count() #0: Urban 1: Rural"
      ],
      "metadata": {
        "colab": {
          "base_uri": "https://localhost:8080/"
        },
        "id": "0p5sPY6vzVBb",
        "outputId": "ff617205-acac-4eec-fe88-5cdd7f93ad97"
      },
      "execution_count": 124,
      "outputs": [
        {
          "output_type": "execute_result",
          "data": {
            "text/plain": [
              "Residence_type\n",
              "0    2532\n",
              "1    2449\n",
              "Name: Residence_type, dtype: int64"
            ]
          },
          "metadata": {},
          "execution_count": 124
        }
      ]
    },
    {
      "cell_type": "code",
      "source": [
        "df.groupby(['smoking_status'])['smoking_status'].count() #0:formely smoked, 1: never smoked 2: smokes 3:unknown"
      ],
      "metadata": {
        "colab": {
          "base_uri": "https://localhost:8080/"
        },
        "id": "P2Zu_fDizXwg",
        "outputId": "e9bacfd0-eae9-4ec0-cfd6-775649287cc0"
      },
      "execution_count": 125,
      "outputs": [
        {
          "output_type": "execute_result",
          "data": {
            "text/plain": [
              "smoking_status\n",
              "0     867\n",
              "1    1838\n",
              "2     776\n",
              "3    1500\n",
              "Name: smoking_status, dtype: int64"
            ]
          },
          "metadata": {},
          "execution_count": 125
        }
      ]
    },
    {
      "cell_type": "code",
      "source": [
        "df.hist()\n",
        "plt.show()"
      ],
      "metadata": {
        "colab": {
          "base_uri": "https://localhost:8080/",
          "height": 557
        },
        "id": "B_LLtA0CmqWy",
        "outputId": "46e524ee-79e2-46b5-9844-2da364c6f0bb"
      },
      "execution_count": 126,
      "outputs": [
        {
          "output_type": "display_data",
          "data": {
            "text/plain": [
              "<Figure size 1152x648 with 12 Axes>"
            ],
            "image/png": "[encoded data removed]"
          },
          "metadata": {}
        }
      ]
    },
    {
      "cell_type": "code",
      "source": [
        "corr = df.corr()\n",
        "corr.style.background_gradient(cmap='coolwarm')"
      ],
      "metadata": {
        "colab": {
          "base_uri": "https://localhost:8080/",
          "height": 394
        },
        "id": "SRbdjR5t2NRJ",
        "outputId": "d792d5ed-ad30-4b7f-a65b-40f30a65280a"
      },
      "execution_count": 127,
      "outputs": [
        {
          "output_type": "execute_result",
          "data": {
            "text/plain": [
              "<pandas.io.formats.style.Styler at 0x7fa7d9336150>"
            ],
            "text/html": [
              "<style type=\"text/css\">\n",
              "#T_00166_row0_col0, #T_00166_row1_col1, #T_00166_row2_col2, #T_00166_row3_col3, #T_00166_row4_col4, #T_00166_row5_col5, #T_00166_row6_col6, #T_00166_row7_col7, #T_00166_row8_col8, #T_00166_row9_col9, #T_00166_row10_col10 {\n",
              "  background-color: #b40426;\n",
              "  color: #f1f1f1;\n",
              "}\n",
              "#T_00166_row0_col1 {\n",
              "  background-color: #c6d6f1;\n",
              "  color: #000000;\n",
              "}\n",
              "#T_00166_row0_col2 {\n",
              "  background-color: #6180e9;\n",
              "  color: #f1f1f1;\n",
              "}\n",
              "#T_00166_row0_col3, #T_00166_row4_col6, #T_00166_row8_col5 {\n",
              "  background-color: #4257c9;\n",
              "  color: #f1f1f1;\n",
              "}\n",
              "#T_00166_row0_col4, #T_00166_row2_col8 {\n",
              "  background-color: #bbd1f8;\n",
              "  color: #000000;\n",
              "}\n",
              "#T_00166_row0_col5, #T_00166_row0_col9 {\n",
              "  background-color: #8badfd;\n",
              "  color: #000000;\n",
              "}\n",
              "#T_00166_row0_col6, #T_00166_row3_col6, #T_00166_row7_col6, #T_00166_row9_col6 {\n",
              "  background-color: #3e51c5;\n",
              "  color: #f1f1f1;\n",
              "}\n",
              "#T_00166_row0_col7, #T_00166_row6_col10, #T_00166_row9_col8 {\n",
              "  background-color: #5470de;\n",
              "  color: #f1f1f1;\n",
              "}\n",
              "#T_00166_row0_col8, #T_00166_row2_col7, #T_00166_row8_col2 {\n",
              "  background-color: #97b8ff;\n",
              "  color: #000000;\n",
              "}\n",
              "#T_00166_row0_col10, #T_00166_row8_col9 {\n",
              "  background-color: #5572df;\n",
              "  color: #f1f1f1;\n",
              "}\n",
              "#T_00166_row1_col0 {\n",
              "  background-color: #5a78e4;\n",
              "  color: #f1f1f1;\n",
              "}\n",
              "#T_00166_row1_col2 {\n",
              "  background-color: #bad0f8;\n",
              "  color: #000000;\n",
              "}\n",
              "#T_00166_row1_col3 {\n",
              "  background-color: #adc9fd;\n",
              "  color: #000000;\n",
              "}\n",
              "#T_00166_row1_col4, #T_00166_row1_col5, #T_00166_row1_col6, #T_00166_row1_col9, #T_00166_row3_col0, #T_00166_row4_col1, #T_00166_row4_col2, #T_00166_row4_col3, #T_00166_row4_col7, #T_00166_row4_col8, #T_00166_row4_col10, #T_00166_row5_col8, #T_00166_row8_col6, #T_00166_row10_col6 {\n",
              "  background-color: #3b4cc0;\n",
              "  color: #f1f1f1;\n",
              "}\n",
              "#T_00166_row1_col7, #T_00166_row10_col4 {\n",
              "  background-color: #abc8fd;\n",
              "  color: #000000;\n",
              "}\n",
              "#T_00166_row1_col8, #T_00166_row7_col1 {\n",
              "  background-color: #e8d6cc;\n",
              "  color: #000000;\n",
              "}\n",
              "#T_00166_row1_col10 {\n",
              "  background-color: #a5c3fe;\n",
              "  color: #000000;\n",
              "}\n",
              "#T_00166_row2_col0 {\n",
              "  background-color: #4c66d6;\n",
              "  color: #f1f1f1;\n",
              "}\n",
              "#T_00166_row2_col1 {\n",
              "  background-color: #edd2c3;\n",
              "  color: #000000;\n",
              "}\n",
              "#T_00166_row2_col3 {\n",
              "  background-color: #7da0f9;\n",
              "  color: #f1f1f1;\n",
              "}\n",
              "#T_00166_row2_col4 {\n",
              "  background-color: #a1c0ff;\n",
              "  color: #000000;\n",
              "}\n",
              "#T_00166_row2_col5, #T_00166_row3_col2 {\n",
              "  background-color: #88abfd;\n",
              "  color: #000000;\n",
              "}\n",
              "#T_00166_row2_col6, #T_00166_row5_col0 {\n",
              "  background-color: #4055c8;\n",
              "  color: #f1f1f1;\n",
              "}\n",
              "#T_00166_row2_col9, #T_00166_row8_col4 {\n",
              "  background-color: #7597f6;\n",
              "  color: #f1f1f1;\n",
              "}\n",
              "#T_00166_row2_col10, #T_00166_row7_col10 {\n",
              "  background-color: #81a4fb;\n",
              "  color: #f1f1f1;\n",
              "}\n",
              "#T_00166_row3_col1 {\n",
              "  background-color: #ebd3c6;\n",
              "  color: #000000;\n",
              "}\n",
              "#T_00166_row3_col4 {\n",
              "  background-color: #aac7fd;\n",
              "  color: #000000;\n",
              "}\n",
              "#T_00166_row3_col5, #T_00166_row10_col5, #T_00166_row10_col7 {\n",
              "  background-color: #8caffe;\n",
              "  color: #000000;\n",
              "}\n",
              "#T_00166_row3_col7 {\n",
              "  background-color: #96b7ff;\n",
              "  color: #000000;\n",
              "}\n",
              "#T_00166_row3_col8, #T_00166_row7_col4 {\n",
              "  background-color: #a3c2fe;\n",
              "  color: #000000;\n",
              "}\n",
              "#T_00166_row3_col9 {\n",
              "  background-color: #85a8fc;\n",
              "  color: #f1f1f1;\n",
              "}\n",
              "#T_00166_row3_col10 {\n",
              "  background-color: #82a6fb;\n",
              "  color: #f1f1f1;\n",
              "}\n",
              "#T_00166_row4_col0, #T_00166_row5_col3 {\n",
              "  background-color: #4a63d3;\n",
              "  color: #f1f1f1;\n",
              "}\n",
              "#T_00166_row4_col5, #T_00166_row10_col1 {\n",
              "  background-color: #e9d5cb;\n",
              "  color: #000000;\n",
              "}\n",
              "#T_00166_row4_col9 {\n",
              "  background-color: #dcdddd;\n",
              "  color: #000000;\n",
              "}\n",
              "#T_00166_row5_col1 {\n",
              "  background-color: #6e90f2;\n",
              "  color: #f1f1f1;\n",
              "}\n",
              "#T_00166_row5_col2 {\n",
              "  background-color: #536edd;\n",
              "  color: #f1f1f1;\n",
              "}\n",
              "#T_00166_row5_col4 {\n",
              "  background-color: #f4c5ad;\n",
              "  color: #000000;\n",
              "}\n",
              "#T_00166_row5_col6 {\n",
              "  background-color: #3d50c3;\n",
              "  color: #f1f1f1;\n",
              "}\n",
              "#T_00166_row5_col7, #T_00166_row10_col0 {\n",
              "  background-color: #506bda;\n",
              "  color: #f1f1f1;\n",
              "}\n",
              "#T_00166_row5_col9 {\n",
              "  background-color: #dddcdc;\n",
              "  color: #000000;\n",
              "}\n",
              "#T_00166_row5_col10, #T_00166_row9_col0, #T_00166_row9_col3, #T_00166_row9_col7 {\n",
              "  background-color: #485fd1;\n",
              "  color: #f1f1f1;\n",
              "}\n",
              "#T_00166_row6_col0 {\n",
              "  background-color: #516ddb;\n",
              "  color: #f1f1f1;\n",
              "}\n",
              "#T_00166_row6_col1 {\n",
              "  background-color: #bed2f6;\n",
              "  color: #000000;\n",
              "}\n",
              "#T_00166_row6_col2 {\n",
              "  background-color: #688aef;\n",
              "  color: #f1f1f1;\n",
              "}\n",
              "#T_00166_row6_col3 {\n",
              "  background-color: #5977e3;\n",
              "  color: #f1f1f1;\n",
              "}\n",
              "#T_00166_row6_col4, #T_00166_row7_col8 {\n",
              "  background-color: #c3d5f4;\n",
              "  color: #000000;\n",
              "}\n",
              "#T_00166_row6_col5 {\n",
              "  background-color: #98b9ff;\n",
              "  color: #000000;\n",
              "}\n",
              "#T_00166_row6_col7 {\n",
              "  background-color: #6384eb;\n",
              "  color: #f1f1f1;\n",
              "}\n",
              "#T_00166_row6_col8 {\n",
              "  background-color: #90b2fe;\n",
              "  color: #000000;\n",
              "}\n",
              "#T_00166_row6_col9 {\n",
              "  background-color: #94b6ff;\n",
              "  color: #000000;\n",
              "}\n",
              "#T_00166_row7_col0 {\n",
              "  background-color: #4358cb;\n",
              "  color: #f1f1f1;\n",
              "}\n",
              "#T_00166_row7_col2 {\n",
              "  background-color: #9abbff;\n",
              "  color: #000000;\n",
              "}\n",
              "#T_00166_row7_col3 {\n",
              "  background-color: #8db0fe;\n",
              "  color: #000000;\n",
              "}\n",
              "#T_00166_row7_col5 {\n",
              "  background-color: #89acfd;\n",
              "  color: #000000;\n",
              "}\n",
              "#T_00166_row7_col9 {\n",
              "  background-color: #7b9ff9;\n",
              "  color: #f1f1f1;\n",
              "}\n",
              "#T_00166_row8_col0 {\n",
              "  background-color: #5673e0;\n",
              "  color: #f1f1f1;\n",
              "}\n",
              "#T_00166_row8_col1 {\n",
              "  background-color: #f5c4ac;\n",
              "  color: #000000;\n",
              "}\n",
              "#T_00166_row8_col3 {\n",
              "  background-color: #6c8ff1;\n",
              "  color: #f1f1f1;\n",
              "}\n",
              "#T_00166_row8_col7 {\n",
              "  background-color: #9bbcff;\n",
              "  color: #000000;\n",
              "}\n",
              "#T_00166_row8_col10 {\n",
              "  background-color: #6a8bef;\n",
              "  color: #f1f1f1;\n",
              "}\n",
              "#T_00166_row9_col1 {\n",
              "  background-color: #7396f5;\n",
              "  color: #f1f1f1;\n",
              "}\n",
              "#T_00166_row9_col2 {\n",
              "  background-color: #445acc;\n",
              "  color: #f1f1f1;\n",
              "}\n",
              "#T_00166_row9_col4 {\n",
              "  background-color: #f0cdbb;\n",
              "  color: #000000;\n",
              "}\n",
              "#T_00166_row9_col5 {\n",
              "  background-color: #dfdbd9;\n",
              "  color: #000000;\n",
              "}\n",
              "#T_00166_row9_col10 {\n",
              "  background-color: #455cce;\n",
              "  color: #f1f1f1;\n",
              "}\n",
              "#T_00166_row10_col2 {\n",
              "  background-color: #8fb1fe;\n",
              "  color: #000000;\n",
              "}\n",
              "#T_00166_row10_col3, #T_00166_row10_col9 {\n",
              "  background-color: #84a7fc;\n",
              "  color: #f1f1f1;\n",
              "}\n",
              "#T_00166_row10_col8 {\n",
              "  background-color: #a2c1ff;\n",
              "  color: #000000;\n",
              "}\n",
              "</style>\n",
              "<table id=\"T_00166_\" class=\"dataframe\">\n",
              "  <thead>\n",
              "    <tr>\n",
              "      <th class=\"blank level0\" >&nbsp;</th>\n",
              "      <th class=\"col_heading level0 col0\" >gender</th>\n",
              "      <th class=\"col_heading level0 col1\" >age</th>\n",
              "      <th class=\"col_heading level0 col2\" >hypertension</th>\n",
              "      <th class=\"col_heading level0 col3\" >heart_disease</th>\n",
              "      <th class=\"col_heading level0 col4\" >ever_married</th>\n",
              "      <th class=\"col_heading level0 col5\" >work_type</th>\n",
              "      <th class=\"col_heading level0 col6\" >Residence_type</th>\n",
              "      <th class=\"col_heading level0 col7\" >avg_glucose_level</th>\n",
              "      <th class=\"col_heading level0 col8\" >bmi</th>\n",
              "      <th class=\"col_heading level0 col9\" >smoking_status</th>\n",
              "      <th class=\"col_heading level0 col10\" >stroke</th>\n",
              "    </tr>\n",
              "  </thead>\n",
              "  <tbody>\n",
              "    <tr>\n",
              "      <th id=\"T_00166_level0_row0\" class=\"row_heading level0 row0\" >gender</th>\n",
              "      <td id=\"T_00166_row0_col0\" class=\"data row0 col0\" >1.000000</td>\n",
              "      <td id=\"T_00166_row0_col1\" class=\"data row0 col1\" >0.026538</td>\n",
              "      <td id=\"T_00166_row0_col2\" class=\"data row0 col2\" >-0.021485</td>\n",
              "      <td id=\"T_00166_row0_col3\" class=\"data row0 col3\" >-0.086476</td>\n",
              "      <td id=\"T_00166_row0_col4\" class=\"data row0 col4\" >-0.028971</td>\n",
              "      <td id=\"T_00166_row0_col5\" class=\"data row0 col5\" >-0.063684</td>\n",
              "      <td id=\"T_00166_row0_col6\" class=\"data row0 col6\" >-0.004301</td>\n",
              "      <td id=\"T_00166_row0_col7\" class=\"data row0 col7\" >-0.055796</td>\n",
              "      <td id=\"T_00166_row0_col8\" class=\"data row0 col8\" >0.012093</td>\n",
              "      <td id=\"T_00166_row0_col9\" class=\"data row0 col9\" >-0.039050</td>\n",
              "      <td id=\"T_00166_row0_col10\" class=\"data row0 col10\" >-0.008870</td>\n",
              "    </tr>\n",
              "    <tr>\n",
              "      <th id=\"T_00166_level0_row1\" class=\"row_heading level0 row1\" >age</th>\n",
              "      <td id=\"T_00166_row1_col0\" class=\"data row1 col0\" >0.026538</td>\n",
              "      <td id=\"T_00166_row1_col1\" class=\"data row1 col1\" >1.000000</td>\n",
              "      <td id=\"T_00166_row1_col2\" class=\"data row1 col2\" >0.278120</td>\n",
              "      <td id=\"T_00166_row1_col3\" class=\"data row1 col3\" >0.264852</td>\n",
              "      <td id=\"T_00166_row1_col4\" class=\"data row1 col4\" >-0.677137</td>\n",
              "      <td id=\"T_00166_row1_col5\" class=\"data row1 col5\" >-0.406469</td>\n",
              "      <td id=\"T_00166_row1_col6\" class=\"data row1 col6\" >-0.017155</td>\n",
              "      <td id=\"T_00166_row1_col7\" class=\"data row1 col7\" >0.236763</td>\n",
              "      <td id=\"T_00166_row1_col8\" class=\"data row1 col8\" >0.373703</td>\n",
              "      <td id=\"T_00166_row1_col9\" class=\"data row1 col9\" >-0.377088</td>\n",
              "      <td id=\"T_00166_row1_col10\" class=\"data row1 col10\" >0.246478</td>\n",
              "    </tr>\n",
              "    <tr>\n",
              "      <th id=\"T_00166_level0_row2\" class=\"row_heading level0 row2\" >hypertension</th>\n",
              "      <td id=\"T_00166_row2_col0\" class=\"data row2 col0\" >-0.021485</td>\n",
              "      <td id=\"T_00166_row2_col1\" class=\"data row2 col1\" >0.278120</td>\n",
              "      <td id=\"T_00166_row2_col2\" class=\"data row2 col2\" >1.000000</td>\n",
              "      <td id=\"T_00166_row2_col3\" class=\"data row2 col3\" >0.111974</td>\n",
              "      <td id=\"T_00166_row2_col4\" class=\"data row2 col4\" >-0.164534</td>\n",
              "      <td id=\"T_00166_row2_col5\" class=\"data row2 col5\" >-0.073155</td>\n",
              "      <td id=\"T_00166_row2_col6\" class=\"data row2 col6\" >0.004755</td>\n",
              "      <td id=\"T_00166_row2_col7\" class=\"data row2 col7\" >0.170028</td>\n",
              "      <td id=\"T_00166_row2_col8\" class=\"data row2 col8\" >0.158762</td>\n",
              "      <td id=\"T_00166_row2_col9\" class=\"data row2 col9\" >-0.127008</td>\n",
              "      <td id=\"T_00166_row2_col10\" class=\"data row2 col10\" >0.131965</td>\n",
              "    </tr>\n",
              "    <tr>\n",
              "      <th id=\"T_00166_level0_row3\" class=\"row_heading level0 row3\" >heart_disease</th>\n",
              "      <td id=\"T_00166_row3_col0\" class=\"data row3 col0\" >-0.086476</td>\n",
              "      <td id=\"T_00166_row3_col1\" class=\"data row3 col1\" >0.264852</td>\n",
              "      <td id=\"T_00166_row3_col2\" class=\"data row3 col2\" >0.111974</td>\n",
              "      <td id=\"T_00166_row3_col3\" class=\"data row3 col3\" >1.000000</td>\n",
              "      <td id=\"T_00166_row3_col4\" class=\"data row3 col4\" >-0.114765</td>\n",
              "      <td id=\"T_00166_row3_col5\" class=\"data row3 col5\" >-0.056632</td>\n",
              "      <td id=\"T_00166_row3_col6\" class=\"data row3 col6\" >-0.002125</td>\n",
              "      <td id=\"T_00166_row3_col7\" class=\"data row3 col7\" >0.166847</td>\n",
              "      <td id=\"T_00166_row3_col8\" class=\"data row3 col8\" >0.060926</td>\n",
              "      <td id=\"T_00166_row3_col9\" class=\"data row3 col9\" >-0.064861</td>\n",
              "      <td id=\"T_00166_row3_col10\" class=\"data row3 col10\" >0.134610</td>\n",
              "    </tr>\n",
              "    <tr>\n",
              "      <th id=\"T_00166_level0_row4\" class=\"row_heading level0 row4\" >ever_married</th>\n",
              "      <td id=\"T_00166_row4_col0\" class=\"data row4 col0\" >-0.028971</td>\n",
              "      <td id=\"T_00166_row4_col1\" class=\"data row4 col1\" >-0.677137</td>\n",
              "      <td id=\"T_00166_row4_col2\" class=\"data row4 col2\" >-0.164534</td>\n",
              "      <td id=\"T_00166_row4_col3\" class=\"data row4 col3\" >-0.114765</td>\n",
              "      <td id=\"T_00166_row4_col4\" class=\"data row4 col4\" >1.000000</td>\n",
              "      <td id=\"T_00166_row4_col5\" class=\"data row4 col5\" >0.365538</td>\n",
              "      <td id=\"T_00166_row4_col6\" class=\"data row4 col6\" >0.008191</td>\n",
              "      <td id=\"T_00166_row4_col7\" class=\"data row4 col7\" >-0.150724</td>\n",
              "      <td id=\"T_00166_row4_col8\" class=\"data row4 col8\" >-0.371690</td>\n",
              "      <td id=\"T_00166_row4_col9\" class=\"data row4 col9\" >0.306390</td>\n",
              "      <td id=\"T_00166_row4_col10\" class=\"data row4 col10\" >-0.108398</td>\n",
              "    </tr>\n",
              "    <tr>\n",
              "      <th id=\"T_00166_level0_row5\" class=\"row_heading level0 row5\" >work_type</th>\n",
              "      <td id=\"T_00166_row5_col0\" class=\"data row5 col0\" >-0.063684</td>\n",
              "      <td id=\"T_00166_row5_col1\" class=\"data row5 col1\" >-0.406469</td>\n",
              "      <td id=\"T_00166_row5_col2\" class=\"data row5 col2\" >-0.073155</td>\n",
              "      <td id=\"T_00166_row5_col3\" class=\"data row5 col3\" >-0.056632</td>\n",
              "      <td id=\"T_00166_row5_col4\" class=\"data row5 col4\" >0.365538</td>\n",
              "      <td id=\"T_00166_row5_col5\" class=\"data row5 col5\" >1.000000</td>\n",
              "      <td id=\"T_00166_row5_col6\" class=\"data row5 col6\" >-0.008475</td>\n",
              "      <td id=\"T_00166_row5_col7\" class=\"data row5 col7\" >-0.069794</td>\n",
              "      <td id=\"T_00166_row5_col8\" class=\"data row5 col8\" >-0.369027</td>\n",
              "      <td id=\"T_00166_row5_col9\" class=\"data row5 col9\" >0.312169</td>\n",
              "      <td id=\"T_00166_row5_col10\" class=\"data row5 col10\" >-0.056713</td>\n",
              "    </tr>\n",
              "    <tr>\n",
              "      <th id=\"T_00166_level0_row6\" class=\"row_heading level0 row6\" >Residence_type</th>\n",
              "      <td id=\"T_00166_row6_col0\" class=\"data row6 col0\" >-0.004301</td>\n",
              "      <td id=\"T_00166_row6_col1\" class=\"data row6 col1\" >-0.017155</td>\n",
              "      <td id=\"T_00166_row6_col2\" class=\"data row6 col2\" >0.004755</td>\n",
              "      <td id=\"T_00166_row6_col3\" class=\"data row6 col3\" >-0.002125</td>\n",
              "      <td id=\"T_00166_row6_col4\" class=\"data row6 col4\" >0.008191</td>\n",
              "      <td id=\"T_00166_row6_col5\" class=\"data row6 col5\" >-0.008475</td>\n",
              "      <td id=\"T_00166_row6_col6\" class=\"data row6 col6\" >1.000000</td>\n",
              "      <td id=\"T_00166_row6_col7\" class=\"data row6 col7\" >-0.001346</td>\n",
              "      <td id=\"T_00166_row6_col8\" class=\"data row6 col8\" >-0.013185</td>\n",
              "      <td id=\"T_00166_row6_col9\" class=\"data row6 col9\" >-0.003405</td>\n",
              "      <td id=\"T_00166_row6_col10\" class=\"data row6 col10\" >-0.016494</td>\n",
              "    </tr>\n",
              "    <tr>\n",
              "      <th id=\"T_00166_level0_row7\" class=\"row_heading level0 row7\" >avg_glucose_level</th>\n",
              "      <td id=\"T_00166_row7_col0\" class=\"data row7 col0\" >-0.055796</td>\n",
              "      <td id=\"T_00166_row7_col1\" class=\"data row7 col1\" >0.236763</td>\n",
              "      <td id=\"T_00166_row7_col2\" class=\"data row7 col2\" >0.170028</td>\n",
              "      <td id=\"T_00166_row7_col3\" class=\"data row7 col3\" >0.166847</td>\n",
              "      <td id=\"T_00166_row7_col4\" class=\"data row7 col4\" >-0.150724</td>\n",
              "      <td id=\"T_00166_row7_col5\" class=\"data row7 col5\" >-0.069794</td>\n",
              "      <td id=\"T_00166_row7_col6\" class=\"data row7 col6\" >-0.001346</td>\n",
              "      <td id=\"T_00166_row7_col7\" class=\"data row7 col7\" >1.000000</td>\n",
              "      <td id=\"T_00166_row7_col8\" class=\"data row7 col8\" >0.186348</td>\n",
              "      <td id=\"T_00166_row7_col9\" class=\"data row7 col9\" >-0.097531</td>\n",
              "      <td id=\"T_00166_row7_col10\" class=\"data row7 col10\" >0.133227</td>\n",
              "    </tr>\n",
              "    <tr>\n",
              "      <th id=\"T_00166_level0_row8\" class=\"row_heading level0 row8\" >bmi</th>\n",
              "      <td id=\"T_00166_row8_col0\" class=\"data row8 col0\" >0.012093</td>\n",
              "      <td id=\"T_00166_row8_col1\" class=\"data row8 col1\" >0.373703</td>\n",
              "      <td id=\"T_00166_row8_col2\" class=\"data row8 col2\" >0.158762</td>\n",
              "      <td id=\"T_00166_row8_col3\" class=\"data row8 col3\" >0.060926</td>\n",
              "      <td id=\"T_00166_row8_col4\" class=\"data row8 col4\" >-0.371690</td>\n",
              "      <td id=\"T_00166_row8_col5\" class=\"data row8 col5\" >-0.369027</td>\n",
              "      <td id=\"T_00166_row8_col6\" class=\"data row8 col6\" >-0.013185</td>\n",
              "      <td id=\"T_00166_row8_col7\" class=\"data row8 col7\" >0.186348</td>\n",
              "      <td id=\"T_00166_row8_col8\" class=\"data row8 col8\" >1.000000</td>\n",
              "      <td id=\"T_00166_row8_col9\" class=\"data row8 col9\" >-0.255127</td>\n",
              "      <td id=\"T_00166_row8_col10\" class=\"data row8 col10\" >0.056926</td>\n",
              "    </tr>\n",
              "    <tr>\n",
              "      <th id=\"T_00166_level0_row9\" class=\"row_heading level0 row9\" >smoking_status</th>\n",
              "      <td id=\"T_00166_row9_col0\" class=\"data row9 col0\" >-0.039050</td>\n",
              "      <td id=\"T_00166_row9_col1\" class=\"data row9 col1\" >-0.377088</td>\n",
              "      <td id=\"T_00166_row9_col2\" class=\"data row9 col2\" >-0.127008</td>\n",
              "      <td id=\"T_00166_row9_col3\" class=\"data row9 col3\" >-0.064861</td>\n",
              "      <td id=\"T_00166_row9_col4\" class=\"data row9 col4\" >0.306390</td>\n",
              "      <td id=\"T_00166_row9_col5\" class=\"data row9 col5\" >0.312169</td>\n",
              "      <td id=\"T_00166_row9_col6\" class=\"data row9 col6\" >-0.003405</td>\n",
              "      <td id=\"T_00166_row9_col7\" class=\"data row9 col7\" >-0.097531</td>\n",
              "      <td id=\"T_00166_row9_col8\" class=\"data row9 col8\" >-0.255127</td>\n",
              "      <td id=\"T_00166_row9_col9\" class=\"data row9 col9\" >1.000000</td>\n",
              "      <td id=\"T_00166_row9_col10\" class=\"data row9 col10\" >-0.066612</td>\n",
              "    </tr>\n",
              "    <tr>\n",
              "      <th id=\"T_00166_level0_row10\" class=\"row_heading level0 row10\" >stroke</th>\n",
              "      <td id=\"T_00166_row10_col0\" class=\"data row10 col0\" >-0.008870</td>\n",
              "      <td id=\"T_00166_row10_col1\" class=\"data row10 col1\" >0.246478</td>\n",
              "      <td id=\"T_00166_row10_col2\" class=\"data row10 col2\" >0.131965</td>\n",
              "      <td id=\"T_00166_row10_col3\" class=\"data row10 col3\" >0.134610</td>\n",
              "      <td id=\"T_00166_row10_col4\" class=\"data row10 col4\" >-0.108398</td>\n",
              "      <td id=\"T_00166_row10_col5\" class=\"data row10 col5\" >-0.056713</td>\n",
              "      <td id=\"T_00166_row10_col6\" class=\"data row10 col6\" >-0.016494</td>\n",
              "      <td id=\"T_00166_row10_col7\" class=\"data row10 col7\" >0.133227</td>\n",
              "      <td id=\"T_00166_row10_col8\" class=\"data row10 col8\" >0.056926</td>\n",
              "      <td id=\"T_00166_row10_col9\" class=\"data row10 col9\" >-0.066612</td>\n",
              "      <td id=\"T_00166_row10_col10\" class=\"data row10 col10\" >1.000000</td>\n",
              "    </tr>\n",
              "  </tbody>\n",
              "</table>\n"
            ]
          },
          "metadata": {},
          "execution_count": 127
        }
      ]
    }
  ]
}